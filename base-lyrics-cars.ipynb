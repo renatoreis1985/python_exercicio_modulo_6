{
 "cells": [
  {
   "cell_type": "code",
   "execution_count": 1,
   "metadata": {},
   "outputs": [
    {
     "name": "stdout",
     "output_type": "stream",
     "text": [
      "Overwriting music.txt\n"
     ]
    }
   ],
   "source": [
    "%%writefile music.txt\n",
    "Roda Viva\n",
    "Chico Buarque\n",
    "\n",
    "Tem dias que a gente se sente\n",
    "Como quem partiu ou morreu\n",
    "A gente estancou de repente\n",
    "Ou foi o mundo então que cresceu\n",
    "A gente quer ter voz ativa\n",
    "No nosso destino mandar\n",
    "Mas eis que chega a roda viva\n",
    "E carrega o destino pra lá\n",
    "Roda mundo, roda-gigante\n",
    "Roda moinho, roda pião\n",
    "O tempo rodou num instante\n",
    "Nas voltas do meu coração\n",
    "A gente vai contra a corrente\n",
    "Até não poder resistir\n",
    "Na volta do barco é que sente\n",
    "O quanto deixou de cumprir\n",
    "Faz tempo que a gente cultiva\n",
    "A mais linda roseira que há\n",
    "Mas eis que chega a roda viva\n",
    "E carrega a roseira pra lá\n",
    "Roda mundo, roda-gigante\n",
    "Roda moinho, roda pião"
   ]
  },
  {
   "cell_type": "code",
   "execution_count": 2,
   "metadata": {},
   "outputs": [
    {
     "name": "stdout",
     "output_type": "stream",
     "text": [
      "Overwriting cars.csv\n"
     ]
    }
   ],
   "source": [
    "%%writefile cars.csv\n",
    "id,sell_level,maintenance_level,doors,passengers,luggage_size\n",
    "1,high,low,2,2,small\n",
    "2,med,low,2,2,large\n",
    "3,high,low,2,4,small\n",
    "4,high,low,2,4,large\n",
    "5,low,low,4,2,small\n",
    "6,high,low,4,2,large\n",
    "7,high,low,4,4,small\n",
    "8,high,low,4,4,large\n",
    "9,high,med,2,2,small\n",
    "10,low,med,2,2,large\n",
    "11,high,med,2,4,small\n",
    "12,high,med,2,4,large\n",
    "13,med,med,4,2,small\n",
    "14,high,med,4,2,large\n",
    "15,high,med,4,4,small\n",
    "16,high,med,4,4,large\n",
    "17,high,high,2,2,small\n",
    "18,high,high,2,2,large\n",
    "19,high,high,2,4,small\n",
    "20,high,high,2,4,large"
   ]
  },
  {
   "cell_type": "code",
   "execution_count": 3,
   "metadata": {},
   "outputs": [],
   "source": [
    "# Implementing the classes\n",
    "class ArquivoTexto:\n",
    "    def __init__(self, arquivo: str):\n",
    "        self.arquivo = arquivo\n",
    "        self.conteudo = []\n",
    "        self._ler_arquivo() # Read the file content when the object  initializes\n",
    "\n",
    "    def _ler_arquivo(self):\n",
    "        try:\n",
    "            with open(self.arquivo, 'r', encoding='utf-8') as file:\n",
    "                self.conteudo = file.readlines()  # Read all lines from the file and store them in conteudo\n",
    "        except FileNotFoundError:\n",
    "            print(f\"File not found: {self.arquivo}\") # Handle if the file not exist\n",
    "        except Exception as e:\n",
    "            print(f\"Error reading file: {e}\") # Handle any other exception\n",
    "\n",
    "    # Extract a line from the file\n",
    "    def extrair_linha(self, numero_linha: int) -> str:\n",
    "        if 1 <= numero_linha <= len(self.conteudo):\n",
    "            return self.conteudo[numero_linha - 1].strip() # Return the line without the line break\n",
    "        else:\n",
    "            return \"Line number out of range\" # Handle if the line number is out of range\n",
    "        \n",
    "# Implementing the class ArquivoCSV reusing the class ArquivoTexto\n",
    "class ArquivoCSV(ArquivoTexto):\n",
    "    def __init__(self, arquivo: str):\n",
    "        super().__init__(arquivo) # Call the initializer of the parent class (ArquivoTexto)\n",
    "        self.colunas = []\n",
    "        self._extrair_colunas() # Extract the columns from the file when the object initializes\n",
    "\n",
    "    # Extract the columns from the file\n",
    "    def _extrair_colunas(self):\n",
    "        if self.conteudo:\n",
    "            self.colunas = self.conteudo[0].strip().split(',') # split the first line by comma and store in colunas\n",
    "\n",
    "    # extract line from the file\n",
    "    def extrair_coluna_da_linha(self, numero_linha: int, numero_coluna: int) -> str:\n",
    "        linha = self.extrair_linha(numero_linha) # get the line using the method from the parent class\n",
    "        if linha == \"Line number out of range\": # Handle if the line number is out of range\n",
    "            return linha\n",
    "        colunas = linha.split(',') # split the line by comma\n",
    "        if 1 <= numero_coluna <= len(colunas):\n",
    "            return colunas[numero_coluna - 1] # return the column value\n",
    "        else:\n",
    "            return \"Column number out of range\" # Handle if the column number is out of range\n"
   ]
  },
  {
   "cell_type": "code",
   "execution_count": 4,
   "metadata": {},
   "outputs": [
    {
     "name": "stdout",
     "output_type": "stream",
     "text": [
      "Roda Viva\n",
      "Mas eis que chega a roda viva\n"
     ]
    }
   ],
   "source": [
    "# testing the TXT file\n",
    "arquivo_texto = ArquivoTexto(arquivo='./music.txt')\n",
    "\n",
    "# should print the first line of the file\n",
    "numero_linha = 1\n",
    "print(arquivo_texto.extrair_linha(numero_linha=numero_linha)) \n",
    "\n",
    "# should print the tenth line of the file\n",
    "numero_linha = 10\n",
    "print(arquivo_texto.extrair_linha(numero_linha=numero_linha))"
   ]
  },
  {
   "cell_type": "code",
   "execution_count": 5,
   "metadata": {},
   "outputs": [
    {
     "name": "stdout",
     "output_type": "stream",
     "text": [
      "id,sell_level,maintenance_level,doors,passengers,luggage_size\n",
      "['id', 'sell_level', 'maintenance_level', 'doors', 'passengers', 'luggage_size']\n",
      "9,high,med,2,2,small\n",
      "high\n"
     ]
    }
   ],
   "source": [
    "# testing the CSV file\n",
    "arquivo_csv = ArquivoCSV(arquivo='./cars.csv')\n",
    "\n",
    "# Should print the header line\n",
    "numero_linha = 1\n",
    "print(arquivo_csv.extrair_linha(numero_linha=numero_linha))\n",
    "\n",
    "# Should print the columns names\n",
    "print(arquivo_csv.colunas)  \n",
    "\n",
    "# Should print the tenth line\n",
    "numero_linha = 10\n",
    "print(arquivo_csv.extrair_linha(numero_linha=numero_linha))  # Should print the tenth line\n",
    "\n",
    "# Should print the value in the second column of the tenth line\n",
    "numero_linha = 10\n",
    "numero_coluna = 2\n",
    "print(arquivo_csv.extrair_coluna_da_linha(numero_linha=numero_linha, numero_coluna=numero_coluna))  # Should print the value in the second column of the tenth line\n"
   ]
  }
 ],
 "metadata": {
  "kernelspec": {
   "display_name": "Python 3",
   "language": "python",
   "name": "python3"
  },
  "language_info": {
   "codemirror_mode": {
    "name": "ipython",
    "version": 3
   },
   "file_extension": ".py",
   "mimetype": "text/x-python",
   "name": "python",
   "nbconvert_exporter": "python",
   "pygments_lexer": "ipython3",
   "version": "3.11.9"
  }
 },
 "nbformat": 4,
 "nbformat_minor": 2
}
